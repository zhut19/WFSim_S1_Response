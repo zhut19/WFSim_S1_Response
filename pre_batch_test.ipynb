{
 "cells": [
  {
   "cell_type": "markdown",
   "metadata": {},
   "source": [
    "# Run under strax"
   ]
  },
  {
   "cell_type": "code",
   "execution_count": 3,
   "metadata": {
    "collapsed": false,
    "jupyter": {
     "outputs_hidden": false
    }
   },
   "outputs": [
    {
     "name": "stdout",
     "output_type": "stream",
     "text": [
      "/opt/XENONnT/anaconda/envs/XENONnT_development/lib/python3.6/site-packages/strax/__init__.py v 0.11.0\n",
      "/opt/XENONnT/anaconda/envs/XENONnT_development/lib/python3.6/site-packages/straxen/__init__.py v 0.9.0\n",
      "/home/zhut/.local/lib/python3.6/site-packages/wfsim/__init__.py v 0.0.4.1\n"
     ]
    }
   ],
   "source": [
    "import straxen, strax, wfsim\n",
    "print(strax.__file__, 'v', strax.__version__)\n",
    "print(straxen.__file__, 'v', straxen.__version__)\n",
    "print(wfsim.__file__, 'v', wfsim.__version__)"
   ]
  },
  {
   "cell_type": "code",
   "execution_count": 4,
   "metadata": {},
   "outputs": [
    {
     "data": {
      "text/plain": [
       "'/home/zhut/WFSim_Tests/S1Bias'"
      ]
     },
     "execution_count": 4,
     "metadata": {},
     "output_type": "execute_result"
    }
   ],
   "source": [
    "pwd"
   ]
  },
  {
   "cell_type": "code",
   "execution_count": 5,
   "metadata": {},
   "outputs": [
    {
     "name": "stdout",
     "output_type": "stream",
     "text": [
      "mkdir: cannot create directory ‘./instructions’: File exists\n"
     ]
    }
   ],
   "source": [
    "mkdir ./instructions"
   ]
  },
  {
   "cell_type": "code",
   "execution_count": 6,
   "metadata": {},
   "outputs": [],
   "source": [
    "import os, sys\n",
    "import numba\n",
    "import numpy as np\n",
    "import pandas as pd\n",
    "from multihist import Histdd, Hist1d\n",
    "from scipy.interpolate import interp1d\n",
    "from scipy.optimize import curve_fit\n",
    "\n",
    "import zlib\n",
    "import matplotlib as mpl\n",
    "import matplotlib.pyplot as plt\n",
    "%matplotlib inline\n",
    "%config InlineBackend.figure_format = 'retina'   # enable if you have a retina display"
   ]
  },
  {
   "cell_type": "code",
   "execution_count": 8,
   "metadata": {
    "collapsed": false,
    "jupyter": {
     "outputs_hidden": false
    }
   },
   "outputs": [
    {
     "data": {
      "text/plain": [
       "20"
      ]
     },
     "execution_count": 8,
     "metadata": {},
     "output_type": "execute_result"
    }
   ],
   "source": [
    "run_number = np.arange(0, 20)\n",
    "len(run_number)"
   ]
  },
  {
   "cell_type": "code",
   "execution_count": 9,
   "metadata": {
    "collapsed": false,
    "jupyter": {
     "outputs_hidden": false
    }
   },
   "outputs": [],
   "source": [
    "strax.Mailbox.DEFAULT_TIMEOUT=10000\n",
    "instruction_dtype = wfsim.instruction_dtype\n",
    "from scipy.stats import truncnorm\n",
    "\n",
    "def rand_instructions(c, df=None):\n",
    "    n = c['nevents'] = c['event_rate'] * c['chunk_size'] * c['nchunk']\n",
    "    c['total_time'] = c['chunk_size'] * c['nchunk']\n",
    "\n",
    "    # Put 10 S1s in each event\n",
    "    instructions = np.zeros(10 * n, dtype=instruction_dtype)\n",
    "    uniform_times = c['total_time'] * (np.arange(n) + 0.5) / n\n",
    "    instructions['time'] = np.repeat(uniform_times, 10) * int(1e9)\n",
    "    instructions['time'] += np.tile(np.linspace(0, 500e6, 11).astype(int)[:10], n)\n",
    "    instructions['event_number'] = np.digitize(instructions['time'],\n",
    "         1e9 * np.arange(c['nchunk']) * c['chunk_size']) - 1\n",
    "    instructions['type'] = np.tile([1] * 10, n)\n",
    "    instructions['recoil'] = ['er' for i in range(n * 10)]\n",
    "\n",
    "    r = np.sqrt(np.random.uniform(0, 40**2, n * 10))\n",
    "    t = np.random.uniform(-np.pi, np.pi, n * 10)\n",
    "\n",
    "    instructions['x'] = r * np.sin(t)\n",
    "    instructions['y'] = r * np.cos(t)\n",
    "    instructions['z'] = np.random.uniform(-95, -5, n * 10)\n",
    "\n",
    "    # There's a x10 difference between input nphotons and outout nphotons\n",
    "    nphotons = np.random.choice(np.arange(10, 500), replace=True, size=n * 10)\n",
    "\n",
    "    instructions['amp'] = nphotons\n",
    "    return instructions\n",
    "\n",
    "for rn in run_number[:]:\n",
    "    c = dict(nchunk=2000, event_rate=1, chunk_size=1)\n",
    "    inst = rand_instructions(c)\n",
    "    pd.DataFrame(inst).to_csv('./instructions/test_rnd_%d.csv'%rn, index=False)"
   ]
  },
  {
   "cell_type": "markdown",
   "metadata": {},
   "source": [
    "# Run a test to know if it works"
   ]
  },
  {
   "cell_type": "code",
   "execution_count": 10,
   "metadata": {},
   "outputs": [],
   "source": [
    "\n",
    "for rn in run_number[:1]:   \n",
    "    config=dict(fax_file='/home/zhut/WFSim_Tests/S1Bias/instructions/test_rnd_%d.csv'%rn,\n",
    "                run_number=rn,\n",
    "                output_name='/dali/lgrandi/zhut/sim/pax_data')\n",
    "\n",
    "    pax_sim = wfsim.PaxEventSimulator(config)\n",
    "    pax_sim.compute()\n",
    "    \n",
    "# Copy paste into pax_wfsim_job.py"
   ]
  },
  {
   "cell_type": "code",
   "execution_count": null,
   "metadata": {},
   "outputs": [],
   "source": []
  }
 ],
 "metadata": {
  "kernelspec": {
   "display_name": "Python 3",
   "language": "python",
   "name": "python3"
  },
  "language_info": {
   "codemirror_mode": {
    "name": "ipython",
    "version": 3
   },
   "file_extension": ".py",
   "mimetype": "text/x-python",
   "name": "python",
   "nbconvert_exporter": "python",
   "pygments_lexer": "ipython3",
   "version": "3.6.10"
  }
 },
 "nbformat": 4,
 "nbformat_minor": 4
}
