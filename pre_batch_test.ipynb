{
 "cells": [
  {
   "cell_type": "markdown",
   "metadata": {},
   "source": [
    "# Run under strax"
   ]
  },
  {
   "cell_type": "code",
   "execution_count": null,
   "metadata": {
    "collapsed": false,
    "jupyter": {
     "outputs_hidden": false
    }
   },
   "outputs": [],
   "source": [
    "import straxen, strax, wfsim\n",
    "print(strax.__file__, 'v', strax.__version__)\n",
    "print(straxen.__file__, 'v', straxen.__version__)\n",
    "print(wfsim.__file__, 'v', wfsim.__version__)"
   ]
  },
  {
   "cell_type": "code",
   "execution_count": 2,
   "metadata": {},
   "outputs": [
    {
     "data": {
      "text/plain": [
       "'/home/zhut/WFSim_Tests/S1Bias'"
      ]
     },
     "execution_count": 2,
     "metadata": {},
     "output_type": "execute_result"
    }
   ],
   "source": [
    "pwd"
   ]
  },
  {
   "cell_type": "code",
   "execution_count": 3,
   "metadata": {},
   "outputs": [],
   "source": [
    "import os, sys\n",
    "import numba\n",
    "import numpy as np\n",
    "import pandas as pd\n",
    "from multihist import Histdd, Hist1d\n",
    "from scipy.interpolate import interp1d\n",
    "from scipy.optimize import curve_fit\n",
    "\n",
    "import zlib\n",
    "import matplotlib as mpl\n",
    "import matplotlib.pyplot as plt\n",
    "%matplotlib inline\n",
    "%config InlineBackend.figure_format = 'retina'   # enable if you have a retina display"
   ]
  },
  {
   "cell_type": "code",
   "execution_count": 4,
   "metadata": {
    "collapsed": false,
    "jupyter": {
     "outputs_hidden": false
    }
   },
   "outputs": [
    {
     "data": {
      "text/plain": [
       "20"
      ]
     },
     "execution_count": 4,
     "metadata": {},
     "output_type": "execute_result"
    }
   ],
   "source": [
    "run_number = np.arange(20, 40)\n",
    "len(run_number)"
   ]
  },
  {
   "cell_type": "code",
   "execution_count": 5,
   "metadata": {
    "collapsed": false,
    "jupyter": {
     "outputs_hidden": false
    }
   },
   "outputs": [],
   "source": [
    "strax.Mailbox.DEFAULT_TIMEOUT=10000\n",
    "instruction_dtype = wfsim.instruction_dtype\n",
    "from scipy.stats import truncnorm\n",
    "\n",
    "def rand_instructions(c, df=None):\n",
    "    n = c['nevents'] = c['event_rate'] * c['chunk_size'] * c['nchunk']\n",
    "    c['total_time'] = c['chunk_size'] * c['nchunk']\n",
    "\n",
    "    # Put 10 S1s in each event\n",
    "    instructions = np.zeros(10 * n, dtype=instruction_dtype)\n",
    "    uniform_times = c['total_time'] * (np.arange(n) + 0.5) / n\n",
    "    instructions['time'] = np.repeat(uniform_times, 10) * int(1e9)\n",
    "    instructions['time'] += np.tile(np.linspace(0, 500e6, 11).astype(int)[:10], n)\n",
    "    instructions['event_number'] = np.digitize(instructions['time'],\n",
    "         1e9 * np.arange(c['nchunk']) * c['chunk_size']) - 1\n",
    "    instructions['type'] = np.tile([1] * 10, n)\n",
    "    instructions['recoil'] = ['er' for i in range(n * 10)]\n",
    "\n",
    "    r = np.sqrt(np.random.uniform(0, 40**2, n * 10))\n",
    "    t = np.random.uniform(-np.pi, np.pi, n * 10)\n",
    "\n",
    "    instructions['x'] = r * np.sin(t)\n",
    "    instructions['y'] = r * np.cos(t)\n",
    "    instructions['z'] = np.random.uniform(-95, -5, n * 10)\n",
    "\n",
    "    # There's a x10 difference between input nphotons and outout nphotons\n",
    "    nphotons = np.random.choice(np.arange(10, 500), replace=True, size=n * 10)\n",
    "\n",
    "    instructions['amp'] = nphotons\n",
    "    return instructions\n",
    "\n",
    "for rn in run_number[:]:\n",
    "    c = dict(nchunk=2000, event_rate=1, chunk_size=1)\n",
    "    inst = rand_instructions(c)\n",
    "    pd.DataFrame(inst).to_csv('./instructions/test_rnd_%d.csv'%rn, index=False)"
   ]
  },
  {
   "cell_type": "code",
   "execution_count": 7,
   "metadata": {},
   "outputs": [],
   "source": [
    "import zlib\n",
    "dtype = [\n",
    "('event_number', 'i8'),\n",
    "('event_start', 'i8'),\n",
    "('run_number', 'i8'),\n",
    "('s1', 'f8'),\n",
    "('s1_area_fraction_top', 'f8'),\n",
    "('s1_range_50p_area', 'f8'),\n",
    "('s1_rise_time', 'f8'),\n",
    "('s1_center_time', 'f8'),\n",
    "('s1_n_hits', 'f8'),\n",
    "('s1_tight_coincidence', 'i4'),\n",
    "('time', 'i8'),\n",
    "('endtime', 'i8'),\n",
    "]\n",
    "\n",
    "name = str(rn)\n",
    "with open('/dali/lgrandi/zhut/minitrees/pax_s1b_tb/%s_HitPerPE'%name, 'rb') as f:\n",
    "    data = zlib.decompress(f.read())\n",
    "    data = np.frombuffer(data, dtype=dtype)\n",
    "    \n",
    "truth = pd.read_csv('/dali/lgrandi/zhut/sim/pax_data/XENON1T_MC_%s/XENON1T-%s-truth.csv'%(name, name))\n",
    "truth.drop(columns=['recoil'], inplace=True)\n",
    "truth = truth.to_records()\n",
    "truth['time'] = truth['t_first_photon']"
   ]
  },
  {
   "cell_type": "code",
   "execution_count": 8,
   "metadata": {},
   "outputs": [],
   "source": [
    "ix = strax.fully_contained_in(truth, data)\n",
    "m = np.where(ix>0)[0]\n",
    "new_truth = truth[m]\n",
    "new_data = data[ix[m]]"
   ]
  },
  {
   "cell_type": "code",
   "execution_count": 9,
   "metadata": {},
   "outputs": [],
   "source": [
    "new_data = strax.merge_arrs([new_data, new_truth])"
   ]
  },
  {
   "cell_type": "code",
   "execution_count": 10,
   "metadata": {},
   "outputs": [],
   "source": [
    "import os, sys\n",
    "import numba\n",
    "import numpy as np\n",
    "import pandas as pd\n",
    "from multihist import Histdd, Hist1d\n",
    "from scipy.interpolate import interp1d\n",
    "from scipy.optimize import curve_fit\n",
    "\n",
    "import zlib\n",
    "import matplotlib as mpl\n",
    "import matplotlib.pyplot as plt\n",
    "%matplotlib inline\n",
    "%config InlineBackend.figure_format = 'retina'   # enable if you have a retina display"
   ]
  },
  {
   "cell_type": "code",
   "execution_count": 13,
   "metadata": {},
   "outputs": [
    {
     "data": {
      "image/png": "[encoded data removed]",
      "text/plain": [
       "<Figure size 432x288 with 2 Axes>"
      ]
     },
     "metadata": {
      "image/png": {
       "height": 266,
       "width": 392
      },
      "needs_background": "light"
     },
     "output_type": "display_data"
    }
   ],
   "source": [
    "mh = Histdd(dimensions=[('n_photon', np.linspace(0, 100, 101)),\n",
    "                        ('s1', np.linspace(0, 100, 101))])\n",
    "            \n",
    "mh.add(new_data)\n",
    "mh.plot()\n",
    "plt.show()"
   ]
  },
  {
   "cell_type": "code",
   "execution_count": null,
   "metadata": {},
   "outputs": [],
   "source": []
  }
 ],
 "metadata": {
  "kernelspec": {
   "display_name": "Python 3",
   "language": "python",
   "name": "python3"
  },
  "language_info": {
   "codemirror_mode": {
    "name": "ipython",
    "version": 3
   },
   "file_extension": ".py",
   "mimetype": "text/x-python",
   "name": "python",
   "nbconvert_exporter": "python",
   "pygments_lexer": "ipython3",
   "version": "3.6.10"
  }
 },
 "nbformat": 4,
 "nbformat_minor": 4
}
