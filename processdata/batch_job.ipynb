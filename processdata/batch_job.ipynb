{
 "cells": [
  {
   "cell_type": "code",
   "execution_count": 4,
   "metadata": {
    "collapsed": false
   },
   "outputs": [],
   "source": [
    "import os, getpass\n",
    "import numpy as np\n",
    "import pandas as pd\n",
    "\n",
    "from configparser import ConfigParser\n",
    "from cax.qsub import submit_job\n",
    "import time"
   ]
  },
  {
   "cell_type": "code",
   "execution_count": 2,
   "metadata": {
    "collapsed": false,
    "jupyter": {
     "outputs_hidden": false
    }
   },
   "outputs": [],
   "source": [
    "class Submit(object):\n",
    "    '''\n",
    "        1) arg to loop over \n",
    "        2) maximum number of nodes to use at once\n",
    "        3) maximum number of jobs to submit\n",
    "    '''\n",
    "    def name(self):\n",
    "        return self.__class__.__name__\n",
    "\n",
    "    def execute(self, *args, **kwargs):\n",
    "        eval('self.{name}(*args, **kwargs)'.format(name = self.name().lower()))\n",
    "\n",
    "    def submit(self, loop_over=[], max_node_in_use=10, max_job=3):\n",
    "        _start = 2\n",
    "        self.max_node_in_use = max_node_in_use\n",
    "        self.loop_over = loop_over\n",
    "\n",
    "        index = _start\n",
    "        while (index < len(self.loop_over) and index < max_job):\n",
    "            if (self.working_job() < self.max_node_in_use):\n",
    "                self._submit_single(loop_index=index,\n",
    "                                    loop_item=self.loop_over[index])\n",
    "\n",
    "                time.sleep(0.1)\n",
    "                index += 1\n",
    "\n",
    "    # check my jobs\n",
    "    def working_job(self):\n",
    "        cmd='squeue --user={user} | wc -l'.format(user = 'zhut')\n",
    "        jobNum=int(os.popen(cmd).read())\n",
    "        return  jobNum -1\n",
    "\n",
    "    def _submit_single(self, loop_index, loop_item):\n",
    "        JOBNAME='paxwf{:03}'.format(loop_index)\n",
    "        RUNNAME=str(loop_item)\n",
    "\n",
    "        cmd = \"\"\"#!/bin/bash\n",
    "#SBATCH --job-name={job_name}\n",
    "#SBATCH --ntasks=1\n",
    "#SBATCH --cpus-per-task=1\n",
    "#SBATCH --mem-per-cpu=6000\n",
    "#SBATCH --output={log}/{run_name}.log\n",
    "#SBATCH --error={err}/{run_name}.log\n",
    "#SBATCH --account=pi-lgrandi\n",
    "#SBATCH --partition={partition}\n",
    "#SBATCH --qos={qos}\n",
    "\n",
    "export PATH=\"$/cvmfs/xenon.opensciencegrid.org/releases/anaconda/2.4/bin:$PATH\"\n",
    "cd {cwd}\n",
    "\n",
    "source activate {conda_env}\n",
    "python GrowMTs.py {run_name}\n",
    "\"\"\"\n",
    "\n",
    "        log_directory = os.path.join(os.getcwd(), 'log')\n",
    "        if not os.path.isdir(log_directory):\n",
    "            os.mkdir(log_directory)\n",
    "\n",
    "        y = cmd.format(job_name = 'submi{:03}'.format(loop_index),\n",
    "                       run_name = loop_item,\n",
    "                       log = log_directory,\n",
    "                       err = log_directory,\n",
    "                       tmp = os.path.join(os.getcwd(), 'tmp'),\n",
    "                       cwd = os.getcwd(),\n",
    "                       partition = 'dali',\n",
    "                       qos = 'dali',\n",
    "                       conda_env = 'pax_head',\n",
    "                      )\n",
    "        #print(y)\n",
    "        submit_job(y)\n"
   ]
  },
  {
   "cell_type": "code",
   "execution_count": 3,
   "metadata": {
    "collapsed": false,
    "jupyter": {
     "outputs_hidden": false
    }
   },
   "outputs": [],
   "source": [
    "p = Submit()\n",
    "loop_over = np.arange(0, 20)\n",
    "p.execute(loop_over=loop_over, max_num_submit=50, nmax=50)"
   ]
  },
  {
   "cell_type": "code",
   "execution_count": null,
   "metadata": {
    "collapsed": true,
    "jupyter": {
     "outputs_hidden": true
    }
   },
   "outputs": [],
   "source": []
  }
 ],
 "metadata": {
  "kernelspec": {
   "display_name": "Python 3",
   "language": "python",
   "name": "python3"
  },
  "language_info": {
   "codemirror_mode": {
    "name": "ipython",
    "version": 3
   },
   "file_extension": ".py",
   "mimetype": "text/x-python",
   "name": "python",
   "nbconvert_exporter": "python",
   "pygments_lexer": "ipython3",
   "version": "3.4.4"
  }
 },
 "nbformat": 4,
 "nbformat_minor": 4
}
