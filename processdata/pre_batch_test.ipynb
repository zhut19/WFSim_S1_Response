{
 "cells": [
  {
   "cell_type": "code",
   "execution_count": 52,
   "metadata": {
    "collapsed": false,
    "jupyter": {
     "outputs_hidden": true
    }
   },
   "outputs": [
    {
     "name": "stdout",
     "output_type": "stream",
     "text": [
      "PAX 6.10.1\n",
      "HAX 2.5.0\n"
     ]
    }
   ],
   "source": [
    "import hax, pax\n",
    "from pax import core\n",
    "from hax.runs import is_mc\n",
    "import pandas as pd\n",
    "import pickle, io, sys, os\n",
    "from pax.plugins.io import Pickle\n",
    "\n",
    "import numpy as np\n",
    "import zlib\n",
    "from pax import configuration\n",
    "\n",
    "\n",
    "print('PAX', pax.__version__)\n",
    "print('HAX', hax.__version__)\n",
    "\n",
    "\n",
    "class RenameUnpickler(pickle.Unpickler):\n",
    "    def find_class(self, module, name):\n",
    "        renamed_module = module\n",
    "        if module == \"wfsim.pax_datastructure.datastructure\":\n",
    "            renamed_module = \"pax.datastructure\"\n",
    "\n",
    "        return super(RenameUnpickler, self).find_class(renamed_module, name)\n",
    "\n",
    "\n",
    "def renamed_load(file_obj):\n",
    "    return RenameUnpickler(file_obj).load()\n",
    "\n",
    "\n",
    "def renamed_loads(pickled_bytes):\n",
    "    file_obj = io.BytesIO(pickled_bytes)\n",
    "    return renamed_load(file_obj)\n",
    "\n",
    "\n",
    "m = sys.modules['pax.plugins.io.Pickle']\n",
    "m.pickle.loads = renamed_loads\n",
    "\n",
    "\n",
    "def get_run_number(run_id):\n",
    "        return int(run_id)\n",
    "\n",
    "m = sys.modules['hax.runs']\n",
    "m.get_run_number = get_run_number\n",
    "\n",
    "\n",
    "def init_core(run_number):\n",
    "    core_processor = core.Processor(\n",
    "        config_names=['_base', 'XENON1T'],\n",
    "        just_testing=False,\n",
    "        config_dict={\n",
    "            'pax':{\n",
    "                'input_name' : '/dali/lgrandi/zhut/sim/pax_data/XENON1T_MC_%s'%run_number,\n",
    "                'output_name': '/dali/lgrandi/zhut/sim/pax_data/processed/%s'%run_number,\n",
    "                'look_for_config_in_runs_db': False},\n",
    "            'MC':{\n",
    "                'mc_generated_data': True,\n",
    "                'mc_sr_parameters': \"sr1\",\n",
    "                'mc_run_number': run_number,}\n",
    "        })\n",
    "    return core_processor"
   ]
  },
  {
   "cell_type": "code",
   "execution_count": 69,
   "metadata": {
    "collapsed": false
   },
   "outputs": [
    {
     "name": "stderr",
     "output_type": "stream",
     "text": [
      "processor MainProcess L66 INFO This is PAX version 6.10.1, running with configuration for XENON1T.\n",
      "/cvmfs/xenon.opensciencegrid.org/releases/anaconda/2.4/envs/pax_head/lib/python3.4/site-packages/pax-6.10.1-py3.4.egg/pax/PatternFitter.py:68: FutureWarning: Using a non-tuple sequence for multidimensional indexing is deprecated; use `arr[tuple(seq)]` instead of `arr[seq]`. In the future this will be interpreted as an array index, `arr[np.array(seq)]`, which will result either in an error or a different result.\n",
      "  self.data *= adjust_to_qe[[np.newaxis] * self.dimensions]\n",
      "ReadZipped MainProcess L102 INFO InputFromFolder: Selecting file /dali/lgrandi/zhut/sim/pax_data/XENON1T_MC_0/XENON1T-0-000000000-000000999-000001000.zip (number 1/2 in folder) for reading\n"
     ]
    },
    {
     "name": "stdout",
     "output_type": "stream",
     "text": [
      "\n",
      "\n",
      "Output file /dali/lgrandi/zhut/sim/pax_data/processed/0.root already exists, overwriting.\n"
     ]
    },
    {
     "name": "stderr",
     "output_type": "stream",
     "text": [
      "/cvmfs/xenon.opensciencegrid.org/releases/anaconda/2.4/envs/pax_head/lib/python3.4/site-packages/pax-6.10.1-py3.4.egg/pax/PatternFitter.py:68: FutureWarning: Using a non-tuple sequence for multidimensional indexing is deprecated; use `arr[tuple(seq)]` instead of `arr[seq]`. In the future this will be interpreted as an array index, `arr[np.array(seq)]`, which will result either in an error or a different result.\n",
      "  self.data *= adjust_to_qe[[np.newaxis] * self.dimensions]\n"
     ]
    }
   ],
   "source": [
    "name = '0'\n",
    "processor = init_core(name)"
   ]
  },
  {
   "cell_type": "code",
   "execution_count": 70,
   "metadata": {
    "collapsed": true
   },
   "outputs": [],
   "source": [
    "dtype = [\n",
    "('event_number', 'i8'),\n",
    "('event_start', 'i8'),\n",
    "('run_number', 'i8'),\n",
    "('s1', 'f8'),\n",
    "('s1_area_fraction_top', 'f8'),\n",
    "('s1_range_50p_area', 'f8'),\n",
    "('s1_rise_time', 'f8'),\n",
    "('s1_center_time', 'f8'),\n",
    "('s1_n_hits', 'f8'),\n",
    "('s1_tight_coincidence', 'i4'),\n",
    "('time', 'i8'),\n",
    "('endtime', 'i8'),\n",
    "]\n",
    "\n",
    "\n",
    "def extract_data(result, event, index):\n",
    "    cnt = 0\n",
    "    \n",
    "    for p in event.s1s():\n",
    "        result[index]['event_number'] = event.event_number\n",
    "        result[index]['event_start'] = event.start_time\n",
    "        result[index]['s1'] = p.area\n",
    "        result[index]['s1_area_fraction_top'] = p.area_fraction_top\n",
    "        result[index]['s1_range_50p_area'] = p.range_50p_area\n",
    "        result[index]['s1_rise_time'] = -p.area_decile_from_midpoint[1]\n",
    "        result[index]['s1_center_time'] = p.center_time\n",
    "        result[index]['s1_n_hits'] = p.n_hits\n",
    "        result[index]['time'] = p.left * 10 + event.start_time\n",
    "        result[index]['endtime'] = p.right * 10 + event.start_time\n",
    "        result[index]['s1_tight_coincidence'] = p.tight_coincidence\n",
    "\n",
    "        index += 1\n",
    "        cnt += 1\n",
    "        if cnt == 10:\n",
    "            break\n",
    "    \n",
    "    return index\n"
   ]
  },
  {
   "cell_type": "code",
   "execution_count": 71,
   "metadata": {
    "collapsed": false
   },
   "outputs": [
    {
     "name": "stderr",
     "output_type": "stream",
     "text": [
      "/cvmfs/xenon.opensciencegrid.org/releases/anaconda/2.4/envs/pax_head/lib/python3.4/site-packages/pax-6.10.1-py3.4.egg/pax/plugins/peak_processing/BasicProperties.py:30: RuntimeWarning: divide by zero encountered in true_divide\n",
      "  peak.mean_amplitude_to_noise = np.average(hits['height']/hits['noise_sigma'], weights=hits['area'])\n"
     ]
    }
   ],
   "source": [
    "result = np.zeros(11 * 10, dtype=np.dtype(dtype))\n",
    "index = 0\n",
    "for event in processor.get_events():\n",
    "\n",
    "    for j, plugin in enumerate(processor.action_plugins[:-6]):\n",
    "        if 'PosRec' in plugin.name: continue\n",
    "        event = plugin.process_event(event)\n",
    "\n",
    "    index = extract_data(result, event, index)\n",
    "\n",
    "    if event.event_number == 10:\n",
    "        break\n",
    "        \n",
    "result['run_number'] = int(name)"
   ]
  },
  {
   "cell_type": "code",
   "execution_count": 72,
   "metadata": {
    "collapsed": false
   },
   "outputs": [],
   "source": [
    "import zlib\n",
    "with open('/dali/lgrandi/zhut/minitrees/pax_s1b_tb/%s_HitPerPE'%name, 'wb') as f:\n",
    "    result = zlib.compress(result, 4)\n",
    "    f.write(result)"
   ]
  },
  {
   "cell_type": "code",
   "execution_count": null,
   "metadata": {
    "collapsed": true
   },
   "outputs": [],
   "source": []
  }
 ],
 "metadata": {
  "kernelspec": {
   "display_name": "Python 3",
   "language": "python",
   "name": "python3"
  },
  "language_info": {
   "codemirror_mode": {
    "name": "ipython",
    "version": 3
   },
   "file_extension": ".py",
   "mimetype": "text/x-python",
   "name": "python",
   "nbconvert_exporter": "python",
   "pygments_lexer": "ipython3",
   "version": "3.4.4"
  }
 },
 "nbformat": 4,
 "nbformat_minor": 4
}
