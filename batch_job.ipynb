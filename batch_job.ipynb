{
 "cells": [
  {
   "cell_type": "code",
   "execution_count": 10,
   "metadata": {
    "collapsed": true
   },
   "outputs": [],
   "source": [
    "import numpy as np\n",
    "import time\n",
    "import os, shlex\n",
    "from subprocess import Popen, PIPE, STDOUT, TimeoutExpired"
   ]
  },
  {
   "cell_type": "code",
   "execution_count": 11,
   "metadata": {
    "collapsed": false,
    "jupyter": {
     "outputs_hidden": false
    }
   },
   "outputs": [],
   "source": [
    "class Submit(object):\n",
    "    '''\n",
    "        1) arg to loop over \n",
    "        2) maximum number of nodes to use at once\n",
    "        3) maximum number of jobs to submit\n",
    "    '''\n",
    "    def name(self):\n",
    "        return self.__class__.__name__\n",
    "\n",
    "    def execute(self, *args, **kwargs):\n",
    "        eval('self.{name}(*args, **kwargs)'.format(name = self.name().lower()))\n",
    "\n",
    "    def submit(self, loop_over=[], max_node_in_use=10, max_job=3):\n",
    "        _start = 0\n",
    "        self.max_node_in_use = max_node_in_use\n",
    "        self.loop_over = loop_over\n",
    "\n",
    "        index = _start\n",
    "        while (index < len(self.loop_over) and index < max_job):\n",
    "            if (self.working_job() < self.max_node_in_use):\n",
    "                self._submit_single(loop_index=index,\n",
    "                                    loop_item=self.loop_over[index])\n",
    "\n",
    "                time.sleep(0.1)\n",
    "                index += 1\n",
    "\n",
    "    # check my jobs\n",
    "    def working_job(self):\n",
    "        cmd='squeue --user={user} | wc -l'.format(user = 'zhut')\n",
    "        jobNum=int(os.popen(cmd).read())\n",
    "        return  jobNum -1\n",
    "\n",
    "    def _submit_single(self, loop_index, loop_item):\n",
    "        JOBNAME='paxwf{:03}'.format(loop_index)\n",
    "        RUNNAME=str(loop_item)\n",
    "\n",
    "        cmd = ('/home/zhut/submission/submit.py'\n",
    "               ' --cpu 1'\n",
    "               ' --cpu-memmory 1200'\n",
    "               ' --job {JOBNAME}'\n",
    "               ' --command \"python {cwd}/pax_wfsim_job.py {RUNNAME}\"')\n",
    "\n",
    "        cmd = cmd.format(JOBNAME=JOBNAME, RUNNAME=RUNNAME, cwd=os.getcwd())\n",
    "        cmd_args = shlex.split(cmd)\n",
    "        \n",
    "        with Popen(cmd, shell=True, stderr=STDOUT, stdout=PIPE) as proc:\n",
    "            try:\n",
    "                stdout, stderr = proc.communicate(\n",
    "                    timeout=1800)\n",
    "                #print(stdout.decode('utf-8'))\n",
    "            except TimeoutExpired:\n",
    "                print('Subprocess timed out at 1800s')\n",
    "                proc.kill()\n",
    "                stdout, stderr = proc.communicate(\n",
    "                    timeout=1800)\n",
    "                #print(stdout.decode('utf-8'))"
   ]
  },
  {
   "cell_type": "code",
   "execution_count": 12,
   "metadata": {
    "collapsed": false,
    "jupyter": {
     "outputs_hidden": false
    }
   },
   "outputs": [],
   "source": [
    "p = Submit()\n",
    "p.execute(loop_over=np.arange(20, 22), max_node_in_use=64, max_job=1)"
   ]
  },
  {
   "cell_type": "code",
   "execution_count": null,
   "metadata": {
    "collapsed": true,
    "jupyter": {
     "outputs_hidden": true
    }
   },
   "outputs": [],
   "source": []
  }
 ],
 "metadata": {
  "kernelspec": {
   "display_name": "Python 3",
   "language": "python",
   "name": "python3"
  },
  "language_info": {
   "codemirror_mode": {
    "name": "ipython",
    "version": 3
   },
   "file_extension": ".py",
   "mimetype": "text/x-python",
   "name": "python",
   "nbconvert_exporter": "python",
   "pygments_lexer": "ipython3",
   "version": "3.4.4"
  }
 },
 "nbformat": 4,
 "nbformat_minor": 4
}
